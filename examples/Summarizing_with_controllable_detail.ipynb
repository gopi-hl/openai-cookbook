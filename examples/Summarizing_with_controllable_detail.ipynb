{
 "cells": [
  {
   "cell_type": "markdown",
   "metadata": {},
   "source": [
    "# Summarizing with Controllable Detail"
   ]
  },
  {
   "cell_type": "markdown",
   "metadata": {},
   "source": [
    "The objective of this notebook is to demonstrate how to summarize large documents with a controllable level of detail. If you give a GPT model the task of summarizing a long document (e.g. 10k or more tokens), you'll tend to get back a relatively short summary that isn't proportional to the length of the document. For instance, a summary of a 20k token document will not be twice as long as a summary of a 10k token document. One way we can fix this is to split our document up into pieces, and produce a summary piecewise. After many queries to a GPT model, the full summary can be reconstructed. By controlling the number of text chunks and their sizes, we can ultimately control the level of detail in the output."
   ]
  },
  {
   "cell_type": "code",
   "execution_count": 1,
   "metadata": {},
   "outputs": [],
   "source": [
    "import openai\n",
    "import tiktoken\n",
    "from typing import List, Tuple, Optional"
   ]
  },
  {
   "cell_type": "code",
   "execution_count": 2,
   "metadata": {},
   "outputs": [],
   "source": [
    "# open dataset containing part of the text of the Wikipedia page for the United States\n",
    "with open(\"data/united_states_wikipedia.txt\", \"r\") as file:\n",
    "    united_states_wikipedia_text = file.read()"
   ]
  },
  {
   "cell_type": "code",
   "execution_count": 3,
   "metadata": {},
   "outputs": [
    {
     "data": {
      "text/plain": [
       "15781"
      ]
     },
     "execution_count": 3,
     "metadata": {},
     "output_type": "execute_result"
    }
   ],
   "source": [
    "# load encoding and check the length of dataset\n",
    "encoding = tiktoken.encoding_for_model('gpt-3.5-turbo')\n",
    "len(encoding.encode(united_states_wikipedia_text))"
   ]
  },
  {
   "cell_type": "markdown",
   "metadata": {},
   "source": [
    "We'll define a simple utility to wrap calls to the OpenAI API."
   ]
  },
  {
   "cell_type": "code",
   "execution_count": 4,
   "metadata": {},
   "outputs": [],
   "source": [
    "def get_chat_completion(messages, model='gpt-3.5-turbo'):\n",
    "    response = openai.ChatCompletion.create(\n",
    "        model=model,\n",
    "        messages=messages,\n",
    "        temperature=0,\n",
    "    )\n",
    "    return response.choices[0].message['content']"
   ]
  },
  {
   "cell_type": "markdown",
   "metadata": {},
   "source": [
    "Next we'll define some utilities to chunk a large document into smaller pieces."
   ]
  },
  {
   "cell_type": "code",
   "execution_count": 5,
   "metadata": {},
   "outputs": [],
   "source": [
    "def tokenize(text: str) -> List[str]:\n",
    "    encoding = tiktoken.encoding_for_model('gpt-3.5-turbo')\n",
    "    return encoding.encode(text)\n",
    "\n",
    "\n",
    "def chunk_on_delimiter(input_string, max_tokens, delimiter):\n",
    "    chunks = input_string.split(delimiter)\n",
    "    combined_chunks, _, dropped_chunk_count = combine_chunks_with_no_minimum(\n",
    "        chunks, max_tokens, chunk_delimiter=delimiter, add_ellipsis_for_overflow=True\n",
    "    )\n",
    "    if dropped_chunk_count > 0:\n",
    "        print(f\"warning: {dropped_chunk_count} chunks were dropped due to overflow\")\n",
    "    combined_chunks = [f\"{chunk}{delimiter}\" for chunk in combined_chunks]\n",
    "    return combined_chunks\n",
    "\n",
    "\n",
    "def combine_chunks_with_no_minimum(\n",
    "    chunks: List[str],\n",
    "    max_tokens: int,\n",
    "    chunk_delimiter=\"\\n\\n\",\n",
    "    header: Optional[str] = None,\n",
    "    add_ellipsis_for_overflow=False,\n",
    ") -> Tuple[List[str], List[int]]:\n",
    "    dropped_chunk_count = 0\n",
    "    output = []  # list to hold the final combined chunks\n",
    "    output_indices = []  # list to hold the indices of the final combined chunks\n",
    "    candidate = (\n",
    "        [] if header is None else [header]\n",
    "    )  # list to hold the current combined chunk candidate\n",
    "    candidate_indices = []\n",
    "    for chunk_i, chunk in enumerate(chunks):\n",
    "        chunk_with_header = [chunk] if header is None else [header, chunk]\n",
    "        if len(tokenize(chunk_delimiter.join(chunk_with_header))) > max_tokens:\n",
    "            print(f\"warning: chunk overflow\")\n",
    "            if (\n",
    "                add_ellipsis_for_overflow\n",
    "                and len(tokenize(chunk_delimiter.join(candidate + [\"...\"]))) <= max_tokens\n",
    "            ):\n",
    "                candidate.append(\"...\")\n",
    "                dropped_chunk_count += 1\n",
    "            continue  # this case would break downstream assumptions\n",
    "        # estimate token count with the current chunk added\n",
    "        extended_candidate_token_count = len(tokenize(chunk_delimiter.join(candidate + [chunk])))\n",
    "        # If the token count exceeds max_tokens, add the current candidate to output and start a new candidate\n",
    "        if extended_candidate_token_count > max_tokens:\n",
    "            output.append(chunk_delimiter.join(candidate))\n",
    "            output_indices.append(candidate_indices)\n",
    "            candidate = chunk_with_header  # re-initialize candidate\n",
    "            candidate_indices = [chunk_i]\n",
    "        # otherwise keep extending the candidate\n",
    "        else:\n",
    "            candidate.append(chunk)\n",
    "            candidate_indices.append(chunk_i)\n",
    "    # add the remaining candidate to output if it's not empty\n",
    "    if (header is not None and len(candidate) > 1) or (header is None and len(candidate) > 0):\n",
    "        output.append(chunk_delimiter.join(candidate))\n",
    "        output_indices.append(candidate_indices)\n",
    "    return output, output_indices, dropped_chunk_count"
   ]
  },
  {
   "cell_type": "markdown",
   "metadata": {},
   "source": [
    "Now we can define a utility to summarize text with a controllable level of detail (note the detail parameter)."
   ]
  },
  {
   "cell_type": "code",
   "execution_count": 8,
   "metadata": {},
   "outputs": [],
   "source": [
    "def summarize(text: str,\n",
    "              detail: float = 0,\n",
    "              model: str = 'gpt-3.5-turbo',\n",
    "              additional_instructions: Optional[str] = None,\n",
    "              minimum_chunk_size: Optional[int] = 500,\n",
    "              chunk_delimiter: str = \".\",\n",
    "              summarize_recursively = False,\n",
    "              verbose=False):\n",
    "    \"\"\"\n",
    "    Summarizes a given text by splitting it into chunks, each of which is summarized individually. \n",
    "    The level of detail in the summary can be adjusted, and the process can optionally be made recursive.\n",
    "\n",
    "    Parameters:\n",
    "    - text (str): The text to be summarized.\n",
    "    - detail (float, optional): A value between 0 and 1 indicating the desired level of detail in the summary.\n",
    "      0 leads to a higher level summary, and 1 results in a more detailed summary. Defaults to 0.\n",
    "    - model (str, optional): The model to use for generating summaries. Defaults to 'gpt-3.5-turbo'.\n",
    "    - additional_instructions (Optional[str], optional): Additional instructions to provide to the model for customizing summaries.\n",
    "    - minimum_chunk_size (Optional[int], optional): The minimum size for text chunks. Defaults to 500.\n",
    "    - chunk_delimiter (str, optional): The delimiter used to split the text into chunks. Defaults to \".\".\n",
    "    - summarize_recursively (bool, optional): If True, summaries are generated recursively, using previous summaries for context.\n",
    "    - verbose (bool, optional): If True, prints detailed information about the chunking process.\n",
    "\n",
    "    Returns:\n",
    "    - str: The final compiled summary of the text.\n",
    "\n",
    "    The function first determines the number of chunks by interpolating between a minimum and a maximum chunk count based on the `detail` parameter. \n",
    "    It then splits the text into chunks and summarizes each chunk. If `summarize_recursively` is True, each summary is based on the previous summaries, \n",
    "    adding more context to the summarization process. The function returns a compiled summary of all chunks.\n",
    "    \"\"\"\n",
    "    \n",
    "    # check detail is set correctly\n",
    "    assert 0 <= detail <= 1\n",
    "\n",
    "    # interpolate the number of chunks based to get specified level of detail\n",
    "    max_chunks = len(chunk_on_delimiter(text, minimum_chunk_size, chunk_delimiter))\n",
    "    min_chunks = 1\n",
    "    num_chunks = int(min_chunks + detail * (max_chunks - min_chunks))\n",
    "\n",
    "    # adjust chunk_size based on interpolated number of chunks\n",
    "    document_length = len(tokenize(text))\n",
    "    chunk_size = max(minimum_chunk_size, document_length // num_chunks)\n",
    "    text_chunks = chunk_on_delimiter(text, chunk_size, chunk_delimiter)\n",
    "    if verbose:\n",
    "        print(f\"Splitting the text into {len(text_chunks)} chunks to be summarized.\")\n",
    "        print(f\"Chunk lengths are {[len(tokenize(x)) for x in text_chunks]}\")\n",
    "\n",
    "    # set system message\n",
    "    system_message_content = \"Summarize the following text.\"\n",
    "    if additional_instructions is not None:\n",
    "        system_message_content += f\"\\n\\n{additional_instructions}\"\n",
    "\n",
    "    accumulated_summaries = []\n",
    "    for chunk in text_chunks:\n",
    "        if summarize_recursively and accumulated_summaries:\n",
    "            # Creating a structured prompt for recursive summarization\n",
    "            accumulated_summaries_string = '\\n\\n'.join(accumulated_summaries)\n",
    "            user_message_content = f\"Previous summaries:\\n\\n{accumulated_summaries_string}\\n\\nText to summarize next:\\n\\n{chunk}\"\n",
    "        else:\n",
    "            # Directly passing the chunk for summarization without recursive context\n",
    "            user_message_content = chunk\n",
    "\n",
    "        # Constructing messages based on whether recursive summarization is applied\n",
    "        messages = [\n",
    "            {\"role\": \"system\", \"content\": system_message_content},\n",
    "            {\"role\": \"user\", \"content\": user_message_content}\n",
    "        ]\n",
    "\n",
    "        # Assuming this function gets the completion and works as expected\n",
    "        response = get_chat_completion(messages, model=model)\n",
    "        accumulated_summaries.append(response)\n",
    "\n",
    "    # Compile final summary from partial summaries\n",
    "    final_summary = '\\n\\n'.join(accumulated_summaries)\n",
    "\n",
    "    return final_summary"
   ]
  },
  {
   "cell_type": "code",
   "execution_count": 9,
   "metadata": {},
   "outputs": [
    {
     "name": "stdout",
     "output_type": "stream",
     "text": [
      "Splitting the text into 1 chunks to be summarized.\n",
      "Chunk lengths are [15781]\n"
     ]
    }
   ],
   "source": [
    "summary_pt0 = summarize(united_states_wikipedia_text, detail=0, verbose=True)"
   ]
  },
  {
   "cell_type": "code",
   "execution_count": 10,
   "metadata": {},
   "outputs": [
    {
     "name": "stdout",
     "output_type": "stream",
     "text": [
      "Splitting the text into 5 chunks to be summarized.\n",
      "Chunk lengths are [3945, 3941, 3943, 3915, 37]\n"
     ]
    }
   ],
   "source": [
    "summary_pt1 = summarize(united_states_wikipedia_text, detail=0.1, verbose=True)"
   ]
  },
  {
   "cell_type": "code",
   "execution_count": 11,
   "metadata": {},
   "outputs": [
    {
     "name": "stdout",
     "output_type": "stream",
     "text": [
      "Splitting the text into 8 chunks to be summarized.\n",
      "Chunk lengths are [2214, 2253, 2249, 2255, 2254, 2255, 2221, 84]\n"
     ]
    }
   ],
   "source": [
    "summary_pt2 = summarize(united_states_wikipedia_text, detail=0.2, verbose=True)"
   ]
  },
  {
   "cell_type": "code",
   "execution_count": 12,
   "metadata": {},
   "outputs": [
    {
     "name": "stdout",
     "output_type": "stream",
     "text": [
      "Splitting the text into 14 chunks to be summarized.\n",
      "Chunk lengths are [1198, 1209, 1210, 1209, 1212, 1192, 1176, 1205, 1212, 1201, 1210, 1210, 1192, 154]\n"
     ]
    }
   ],
   "source": [
    "summary_pt4 = summarize(united_states_wikipedia_text, detail=0.4, verbose=True)"
   ]
  },
  {
   "cell_type": "code",
   "execution_count": 13,
   "metadata": {},
   "outputs": [
    {
     "name": "stdout",
     "output_type": "stream",
     "text": [
      "Splitting the text into 27 chunks to be summarized.\n",
      "Chunk lengths are [602, 596, 601, 601, 604, 598, 572, 594, 592, 592, 604, 593, 578, 582, 597, 600, 596, 555, 582, 601, 582, 587, 581, 595, 598, 568, 445]\n"
     ]
    }
   ],
   "source": [
    "summary_pt8 = summarize(united_states_wikipedia_text, detail=0.8, verbose=True)"
   ]
  },
  {
   "cell_type": "code",
   "execution_count": 14,
   "metadata": {},
   "outputs": [
    {
     "name": "stdout",
     "output_type": "stream",
     "text": [
      "Splitting the text into 33 chunks to be summarized.\n",
      "Chunk lengths are [490, 443, 475, 490, 501, 470, 472, 487, 479, 477, 447, 442, 490, 468, 488, 477, 493, 493, 472, 491, 490, 501, 493, 468, 500, 500, 474, 460, 489, 462, 490, 482, 445]\n"
     ]
    }
   ],
   "source": [
    "summary_pt10 = summarize(united_states_wikipedia_text, detail=1.0, verbose=True)"
   ]
  },
  {
   "cell_type": "markdown",
   "metadata": {},
   "source": [
    "The original document is ~15k tokens long, and we find that as the detail parameter is varied from 0 to 1 we get progressively longer summaries."
   ]
  },
  {
   "cell_type": "code",
   "execution_count": 15,
   "metadata": {},
   "outputs": [
    {
     "data": {
      "text/plain": [
       "[153, 492, 859, 1757, 3588, 4212]"
      ]
     },
     "execution_count": 15,
     "metadata": {},
     "output_type": "execute_result"
    }
   ],
   "source": [
    "# lengths of summaries\n",
    "[len(tokenize(x)) for x in [summary_pt0, summary_pt1, summary_pt2, summary_pt4, summary_pt8, summary_pt10]]"
   ]
  },
  {
   "cell_type": "markdown",
   "metadata": {},
   "source": [
    "Let's inspect the summaries to get a feel for what that means."
   ]
  },
  {
   "cell_type": "code",
   "execution_count": 16,
   "metadata": {},
   "outputs": [
    {
     "name": "stdout",
     "output_type": "stream",
     "text": [
      "The United States of America is a diverse country located in North America, with a population exceeding 334 million. Its history includes colonization by the British, the American Revolution, and the Civil War. The U.S. is a federal republic with a presidential system and a strong emphasis on individualism, liberty, and limited government. It has the world's largest economy, with a significant influence on global politics and culture. The U.S. has a rich cultural heritage, including literature, music, theater, cinema, and cuisine. The country is known for its technological advancements, strong protections of free speech, and diverse population. The U.S. is a leader in various industries, such as entertainment, technology, and healthcare, and has a significant impact on global affairs.\n"
     ]
    }
   ],
   "source": [
    "print(summary_pt0)"
   ]
  },
  {
   "cell_type": "code",
   "execution_count": 17,
   "metadata": {},
   "outputs": [
    {
     "name": "stdout",
     "output_type": "stream",
     "text": [
      "The United States of America is a country located in North America, consisting of 50 states, a federal capital district, and various territories. It has a rich history, starting with indigenous peoples migrating to the continent over 12,000 years ago, followed by European colonization and the American Revolution. The U.S. emerged as a global superpower after World War II and the Cold War. It is known for its democratic government structure, economic strength, and cultural influence. The country's history includes periods of expansion, conflicts, and the development of democratic principles.\n",
      "\n",
      "The text discusses key events in American history from the Missouri Compromise to the Great Recession. It covers topics such as westward expansion, the Civil War, Reconstruction, immigration, industrialization, rise as a superpower, Cold War, civil rights movement, and contemporary events like the September 11 attacks and the Great Recession. The text highlights significant moments such as the Trail of Tears, the California Gold Rush, the Civil War, Reconstruction, the Great Depression, World Wars, Cold War, civil rights movement, and the war on terror. It also mentions economic growth, technological advancements, social changes, and political developments that shaped the United States from the 19th century to the present day.\n",
      "\n",
      "The text discusses the geography, climate, biodiversity, conservation efforts, government and politics, political parties, subdivisions, and foreign relations of the United States. It highlights the country's physical features, climate diversity, environmental issues, governmental structure, political parties, state subdivisions, and diplomatic relations. The text also mentions the country's biodiversity, conservation efforts, and its role in global affairs.\n",
      "\n",
      "The text discusses the United States' international relations, military capabilities, law enforcement, crime rates, economy, and social issues. It highlights the country's role in global organizations, alliances with other nations, military strength, economic dominance, technological advancements, and social challenges such as income inequality, poverty, and homelessness. The United States is a key player in international affairs, with significant military power, economic influence, and technological advancements, but also faces social issues and disparities within its population.\n",
      "\n",
      "The text discusses various aspects of the United States, including its scientific and innovation rankings, energy consumption, transportation infrastructure, demographics, language diversity, immigration, religion, urbanization, and healthcare. The U.S. ranks high in scientific publications and patents, but also consumes a significant amount of fossil fuels and emits greenhouse gases. The country has a diverse population with various racial and ethnic groups, and English is the most commonly spoken language. Immigration plays a significant role in the U.S., with a large immigrant population. The country is religiously diverse, with a majority believing in a higher power. Urban areas are home to most Americans, with rapid population growth in certain regions. The U.S. also has a prominent healthcare system, with facilities like the Texas Medical Center in Houston.\n",
      "\n",
      "The text discusses various aspects of life in the United States, including changes in life expectancy, the healthcare system, education, culture, society, literature, and mass media. It highlights the impact of the COVID-19 pandemic on life expectancy, disparities in healthcare outcomes, the decentralized education system, the high cost of education, cultural diversity, the American Dream, free speech protections, advancements in LGBT rights, literary movements, and the media landscape in the U.S.\n",
      "\n",
      "The text discusses various aspects of American culture, including alternative newspapers in major cities, popular websites, the video game market, theater, visual arts, music, fashion, cinema, and cuisine. It highlights the influence of American culture globally, such as in music, fashion, cinema, and cuisine. The text also mentions significant figures and events in American cultural history, such as the Tony Awards, Broadway theater, the Hudson River School in visual arts, and the Golden Age of Hollywood in cinema. Additionally, it touches on the impact of American cuisine, the diversity of American dishes, and the significance of the restaurant industry in the country.\n",
      "\n",
      "The American fast-food industry, known for pioneering the drive-through format in the 1940s, is considered a symbol of U.S. marketing dominance. Major companies like McDonald's, Burger King, Pizza Hut, Kentucky Fried Chicken, and Domino's Pizza have a significant global presence with numerous outlets worldwide.\n"
     ]
    }
   ],
   "source": [
    "print(summary_pt2)"
   ]
  },
  {
   "cell_type": "markdown",
   "metadata": {},
   "source": [
    "Note that this utility also allows passing additional instructions."
   ]
  },
  {
   "cell_type": "code",
   "execution_count": 18,
   "metadata": {},
   "outputs": [
    {
     "name": "stdout",
     "output_type": "stream",
     "text": [
      "- The USA is a country in North America with 50 states, a federal capital district, and various territories.\n",
      "- It has a rich history, starting with Paleo-Indians migrating over 12,000 years ago, British colonization, the American Revolution, and the Civil War.\n",
      "- The US is a presidential constitutional republic with three branches of government and a strong emphasis on liberty and limited government.\n",
      "- It is a global economic powerhouse, with the largest nominal GDP since 1890 and significant influence in international organizations.\n",
      "- The country's name \"United States of America\" first appeared in 1776, and its history includes European colonization, the Revolutionary War, and territorial expansion.\n",
      "- The US Constitution was drafted in 1787, establishing a federal government with checks and balances.\n",
      "- The US has a history of westward expansion, including the Louisiana Purchase and the War of 1812.\n",
      "\n",
      "- Missouri Compromise balanced desires of northern and southern states regarding slavery\n",
      "- Trail of Tears forcibly removed Native Americans\n",
      "- Annexation of Texas, Oregon Treaty, Mexican Cession expanded U.S. territory\n",
      "- Civil War divided states over slavery, Union victory led to Emancipation Proclamation\n",
      "- Reconstruction era followed Civil War, Reconstruction Amendments passed\n",
      "- Post-Civil War era saw influx of immigrants, Compromise of 1877 ended Reconstruction\n",
      "- Rise as a superpower from 1898-1945, acquisition of territories, World War I and II involvement\n",
      "- Cold War era from 1945-1991, U.S. dominance, civil rights movement, societal changes\n",
      "- Contemporary era from 1991-present, economic expansion, 9/11 attacks, Great Recession, political polarization.\n",
      "\n",
      "- The United States is the third-largest country by land and total area.\n",
      "- The country has diverse geography, including coastal plains, mountains, rivers, deserts, and forests.\n",
      "- The climate in the U.S. varies from humid continental to tropical, with different regions experiencing different weather patterns.\n",
      "- The U.S. is home to a wide range of biodiversity, including numerous endemic species.\n",
      "- Environmental issues in the U.S. include debates on resources, pollution, deforestation, and climate change.\n",
      "- The U.S. government is a federal republic with a system of checks and balances.\n",
      "- The government consists of three branches: Congress, the President, and the federal judiciary.\n",
      "- The U.S. operates as a two-party system, with the Democratic and Republican parties being the main national parties.\n",
      "- The country is divided into states, each with its own government, and further subdivided into counties and municipalities.\n",
      "- The U.S. has an established structure of foreign relations and a large diplomatic corps.\n",
      "\n",
      "- The United States is a permanent member of the UN Security Council and home to the UN headquarters.\n",
      "- It is a member of G7, G20, and OECD.\n",
      "- Most countries have embassies and consulates in the US, except Iran, North Korea, and Bhutan.\n",
      "- The US has close ties with the UK, Canada, Australia, New Zealand, Japan, South Korea, Israel, and some EU countries.\n",
      "- It works closely with NATO allies and countries in the Americas.\n",
      "- The US has a strong military presence, spending $877 billion in 2022, with 45% of the world's nuclear weapons.\n",
      "- The US has a high incarceration rate and the largest prison population globally.\n",
      "- The US has the largest economy, with a GDP of $27 trillion in 2023.\n",
      "- It is a leader in technological innovation and scientific research, with a strong space program.\n",
      "\n",
      "- United States ranked 2nd in scientific papers in 2022\n",
      "- Ranked 2nd in patent applications, 3rd in trademark and industrial design applications in 2021\n",
      "- Ranked 3rd in Global Innovation Index in 2023\n",
      "- Receives 81% of energy from fossil fuels, with petroleum being the largest source\n",
      "- Second-highest emitter of greenhouse gases\n",
      "- Dominated by automobiles in transportation\n",
      "- Hartsfield-Jackson Atlanta International Airport is the busiest airport\n",
      "- U.S. has the longest network of public roads\n",
      "- U.S. is the second-largest manufacturer of motor vehicles\n",
      "- U.S. has the highest vehicle ownership per capita\n",
      "- U.S. rail transport network handles mostly freight\n",
      "- U.S. civil airline industry is privately owned\n",
      "- U.S. has 19,969 airports, with 5,193 designated for public use\n",
      "- U.S. has four of the fifty busiest container ports\n",
      "- U.S. has the world's fifth-longest inland waterways\n",
      "- U.S. population is diverse, with various ancestry groups\n",
      "- English is the most commonly spoken language\n",
      "- U.S. has the largest immigrant population in the world\n",
      "- U.S. leads in refugee resettlement\n",
      "- Majority of Americans believe in a higher power or spiritual force\n",
      "- About 82% of Americans live in urban areas\n",
      "- Texas Medical Center in Houston is the largest medical complex in the world\n",
      "- Average life expectancy in the U.S. was 77.5 years in 2022\n",
      "\n",
      "- Life expectancy in the U.S. increased to 76.4 years in 2022, but did not fully recover from a 2.4-year loss between 2019 and 2021 due to factors like the COVID pandemic, opioid overdoses, and suicides.\n",
      "- The U.S. healthcare system spends the most per capita but has worse outcomes compared to other countries.\n",
      "- The U.S. lacks universal healthcare, with Medicaid and Medicare providing coverage for the poor and elderly.\n",
      "- American education is decentralized, with high spending per student and high literacy rates.\n",
      "- U.S. higher education is globally renowned, with many top universities, but student loan debt has increased significantly.\n",
      "- American culture emphasizes values like individualism, work ethic, and freedom of speech.\n",
      "- The U.S. has a diverse population with influences from various ethnic groups and traditions.\n",
      "- American literature has evolved through different movements, from transcendentalism to realism.\n",
      "- Mass media in the U.S. is diverse, with major broadcasters, cable television, and a variety of radio stations and newspapers.\n",
      "\n",
      "- Major cities have alternative newspapers like The Village Voice in NYC and LA Weekly in Los Angeles\n",
      "- Top 5 websites in the US are Google, YouTube, Amazon, Yahoo, and Facebook\n",
      "- US video game market is the world's largest by revenue\n",
      "- US theater scene is centered in Manhattan with Broadway, off-Broadway, and off-off-Broadway divisions\n",
      "- US visual arts include movements like Hudson River School, American modernism, abstract expressionism, and pop art\n",
      "- US music genres include folk, jazz, country, rock and roll, bluegrass, rhythm and blues, punk, and hip hop\n",
      "- US fashion is eclectic and informal, with New York being a global fashion capital\n",
      "- US cinema industry, centered in Hollywood, is influential worldwide\n",
      "- American cuisine is a fusion of Native American, immigrant, and regional influences, with iconic dishes like apple pie, hamburgers, and pizza.\n",
      "\n",
      "- American fast-food industry is the world's first and largest\n",
      "- Pioneered drive-through format in the 1940s\n",
      "- Symbol of U.S. marketing dominance\n",
      "- Companies like McDonald's, Burger King, Pizza Hut, KFC, and Domino's Pizza have outlets worldwide\n"
     ]
    }
   ],
   "source": [
    "summary_pt2_point_form = summarize(united_states_wikipedia_text, detail=0.2, additional_instructions=\"Point form.\")\n",
    "print(summary_pt2_point_form)"
   ]
  },
  {
   "cell_type": "code",
   "execution_count": null,
   "metadata": {},
   "outputs": [],
   "source": []
  }
 ],
 "metadata": {
  "kernelspec": {
   "display_name": "Python 3 (ipykernel)",
   "language": "python",
   "name": "python3"
  },
  "language_info": {
   "codemirror_mode": {
    "name": "ipython",
    "version": 3
   },
   "file_extension": ".py",
   "mimetype": "text/x-python",
   "name": "python",
   "nbconvert_exporter": "python",
   "pygments_lexer": "ipython3",
   "version": "3.9.9"
  }
 },
 "nbformat": 4,
 "nbformat_minor": 1
}
